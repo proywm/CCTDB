{
 "cells": [
  {
   "cell_type": "code",
   "execution_count": 1,
   "metadata": {},
   "outputs": [],
   "source": [
    "from neo4j import GraphDatabase"
   ]
  },
  {
   "cell_type": "code",
   "execution_count": 2,
   "metadata": {},
   "outputs": [
    {
     "name": "stdout",
     "output_type": "stream",
     "text": [
      "Enter in the nodeId for path to Root: 12\n",
      "\n",
      "GENERIC_EXEC_SINGLE+0XA3 -> SMP_CALL_FUNCTION_SINGLE+0XD2\n",
      "SMP_CALL_FUNCTION_SINGLE+0XD2 -> EVENT_FUNCTION_CALL+0X11F\n",
      "EVENT_FUNCTION_CALL+0X11F -> _PERF_EVENT_ENABLE+0X54\n",
      "_PERF_EVENT_ENABLE+0X54 -> PERF_EVENT_FOR_EACH_CHILD+0X3A\n",
      "PERF_EVENT_FOR_EACH_CHILD+0X3A -> _PERF_IOCTL+0X12A\n",
      "_PERF_IOCTL+0X12A -> PERF_IOCTL+0X31\n",
      "PERF_IOCTL+0X31 -> DO_VFS_IOCTL+0XA9\n",
      "DO_VFS_IOCTL+0XA9 -> KSYS_IOCTL+0X75\n",
      "KSYS_IOCTL+0X75 -> __X64_SYS_IOCTL+0X1A\n",
      "__X64_SYS_IOCTL+0X1A -> DO_SYSCALL_64+0X5A\n",
      "DO_SYSCALL_64+0X5A -> ENTRY_SYSCALL_64_AFTER_HWFRAME+0X44\n",
      "ENTRY_SYSCALL_64_AFTER_HWFRAME+0X44 -> ROOT\n"
     ]
    }
   ],
   "source": [
    "class graphNeo:\n",
    "\n",
    "    def __init__(self, uri, user, password): a\n",
    "        self.driver = GraphDatabase.driver(uri, auth=(user, password))\n",
    "\n",
    "    def close(self):\n",
    "        self.driver.close()\n",
    "    \n",
    "    def query(self, nodeId):\n",
    "        nodeQuery = \"MATCH (a:Node)-[r:parent]->(b:Node) WHERE a.nodeId = $nodeId RETURN a.data,b.data,b.nodeId \"\n",
    "        \n",
    "        with self.driver.session() as session:\n",
    "            \n",
    "            nodes = session.run(nodeQuery, nodeId = nodeId)\n",
    "            \n",
    "            for node in nodes:\n",
    "                print(node[0] + \" -> \" + node[1])\n",
    "                #print(node)\n",
    "                self.query(node[2])\n",
    "                    \n",
    "        \n",
    "\n",
    "neo = graphNeo(\"bolt://localhost:7687\", \"neo4j\", \"test\")\n",
    "inputId = input(\"Enter in the nodeId for path to Root: \")\n",
    "print()\n",
    "nodeId = int(inputId)\n",
    "neo.query(nodeId)\n",
    "\n",
    "neo.close()"
   ]
  },
  {
   "cell_type": "code",
   "execution_count": null,
   "metadata": {},
   "outputs": [],
   "source": []
  }
 ],
 "metadata": {
  "kernelspec": {
   "display_name": "Python 3",
   "language": "python",
   "name": "python3"
  },
  "language_info": {
   "codemirror_mode": {
    "name": "ipython",
    "version": 3
   },
   "file_extension": ".py",
   "mimetype": "text/x-python",
   "name": "python",
   "nbconvert_exporter": "python",
   "pygments_lexer": "ipython3",
   "version": "3.8.3"
  }
 },
 "nbformat": 4,
 "nbformat_minor": 4
}
