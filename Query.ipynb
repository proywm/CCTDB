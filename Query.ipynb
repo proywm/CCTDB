{
 "cells": [
  {
   "cell_type": "code",
   "execution_count": 1,
   "metadata": {},
   "outputs": [],
   "source": [
    "from neo4j import GraphDatabase"
   ]
  },
  {
   "cell_type": "code",
   "execution_count": 2,
   "metadata": {},
   "outputs": [
    {
     "name": "stdout",
     "output_type": "stream",
     "text": [
      "Enter in the data name for path to Root: __X64_SYS_SCHED_SETAFFINITY+0X86\n",
      "\n",
      "__X64_SYS_SCHED_SETAFFINITY+0X86 -> DO_SYSCALL_64+0X5A\n",
      "DO_SYSCALL_64+0X5A -> ENTRY_SYSCALL_64_AFTER_HWFRAME+0X44\n",
      "ENTRY_SYSCALL_64_AFTER_HWFRAME+0X44 -> ROOT\n"
     ]
    }
   ],
   "source": [
    "class graphNeo:\n",
    "\n",
    "    def __init__(self, uri, user, password):\n",
    "        self.driver = GraphDatabase.driver(uri, auth=(user, password))\n",
    "\n",
    "    def close(self):\n",
    "        self.driver.close()\n",
    "    \n",
    "    def query(self, data):\n",
    "        nodeQuery = \"MATCH (a:Node)-[r:parent]->(b:Node) WHERE a.data = $data RETURN a.data,b.data \"\n",
    "        \n",
    "        with self.driver.session() as session:\n",
    "            \n",
    "            nodes = session.run(nodeQuery, data = data)\n",
    "            \n",
    "            for node in nodes:\n",
    "                print(node[0] + \" -> \" + node[1])\n",
    "                \n",
    "                self.query(node[1])\n",
    "                    \n",
    "        \n",
    "\n",
    "neo = graphNeo(\"bolt://localhost:7687\", \"neo4j\", \"test\")\n",
    "data = input(\"Enter in the data name for path to Root: \")\n",
    "print()\n",
    "neo.query(data)\n",
    "\n",
    "neo.close()"
   ]
  },
  {
   "cell_type": "code",
   "execution_count": null,
   "metadata": {},
   "outputs": [],
   "source": []
  }
 ],
 "metadata": {
  "kernelspec": {
   "display_name": "Python 3",
   "language": "python",
   "name": "python3"
  },
  "language_info": {
   "codemirror_mode": {
    "name": "ipython",
    "version": 3
   },
   "file_extension": ".py",
   "mimetype": "text/x-python",
   "name": "python",
   "nbconvert_exporter": "python",
   "pygments_lexer": "ipython3",
   "version": "3.8.3"
  }
 },
 "nbformat": 4,
 "nbformat_minor": 4
}
