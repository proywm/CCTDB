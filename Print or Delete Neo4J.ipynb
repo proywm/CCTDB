{
 "cells": [
  {
   "cell_type": "code",
   "execution_count": 3,
   "metadata": {},
   "outputs": [],
   "source": [
    "from neo4j import GraphDatabase"
   ]
  },
  {
   "cell_type": "code",
   "execution_count": 19,
   "metadata": {},
   "outputs": [],
   "source": [
    "class graphNeo:\n",
    "\n",
    "    def __init__(self, uri, user, password):\n",
    "        self.driver = GraphDatabase.driver(uri, auth=(user, password))\n",
    "\n",
    "    def close(self):\n",
    "        self.driver.close()\n",
    "\n",
    "    def deleteAllNodes(self):\n",
    "        deleteAll = \"MATCH (a) DETACH DELETE a\"\n",
    "        with self.driver.session() as session:\n",
    "            deleted = session.run(deleteAll)\n",
    "    \n",
    "    def printNodes(self):\n",
    "        nodeQuery = \"MATCH (a:Node) RETURN a\"\n",
    "        rootPrint = \"MATCH (a:ROOT) RETURN a\"\n",
    "        with self.driver.session() as session:\n",
    "            root = session.run(rootPrint)\n",
    "            nodes = session.run(nodeQuery)\n",
    "\n",
    "            for roots in root:\n",
    "                print(root)\n",
    "            \n",
    "            for node in nodes:\n",
    "                print(node)\n",
    "\n",
    "\n",
    "neo = graphNeo(\"bolt://localhost:7687\", \"neo4j\", \"test\")\n",
    "neo.deleteAllNodes()\n",
    "#neo.printNodes()\n",
    "neo.close()"
   ]
  },
  {
   "cell_type": "code",
   "execution_count": null,
   "metadata": {},
   "outputs": [],
   "source": []
  }
 ],
 "metadata": {
  "kernelspec": {
   "display_name": "Python 3",
   "language": "python",
   "name": "python3"
  },
  "language_info": {
   "codemirror_mode": {
    "name": "ipython",
    "version": 3
   },
   "file_extension": ".py",
   "mimetype": "text/x-python",
   "name": "python",
   "nbconvert_exporter": "python",
   "pygments_lexer": "ipython3",
   "version": "3.8.3"
  }
 },
 "nbformat": 4,
 "nbformat_minor": 4
}
